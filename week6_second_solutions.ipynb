{
 "cells": [
  {
   "cell_type": "code",
   "execution_count": 5,
   "metadata": {},
   "outputs": [],
   "source": [
    "todo = []\n",
    "while True:\n",
    "    todo.append([input(\"what do you plan to do\"),\"pending\"])\n",
    "    check = input(\"do you want to continue? Y or N\")\n",
    "    if check.lower() == \"y\":\n",
    "        continue\n",
    "    else:\n",
    "        break\n",
    "with open (\"todolist.txt\",\"a\") as fileobj:\n",
    "    for i in range (len(todo)):\n",
    "        print(todo[i],file = fileobj)\n"
   ]
  },
  {
   "cell_type": "code",
   "execution_count": null,
   "metadata": {},
   "outputs": [],
   "source": []
  }
 ],
 "metadata": {
  "kernelspec": {
   "display_name": "Python 3",
   "language": "python",
   "name": "python3"
  },
  "language_info": {
   "codemirror_mode": {
    "name": "ipython",
    "version": 3
   },
   "file_extension": ".py",
   "mimetype": "text/x-python",
   "name": "python",
   "nbconvert_exporter": "python",
   "pygments_lexer": "ipython3",
   "version": "3.12.6"
  }
 },
 "nbformat": 4,
 "nbformat_minor": 2
}
