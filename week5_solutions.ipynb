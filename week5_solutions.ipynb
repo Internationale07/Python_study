{
 "cells": [
  {
   "cell_type": "markdown",
   "id": "a6754576",
   "metadata": {},
   "source": [
    "answer to task 1"
   ]
  },
  {
   "cell_type": "code",
   "execution_count": 11,
   "id": "c5e3551d",
   "metadata": {},
   "outputs": [
    {
     "name": "stdout",
     "output_type": "stream",
     "text": [
      "not in the range\n",
      "not in the range\n"
     ]
    }
   ],
   "source": [
    "scores = []\n",
    "control = True\n",
    "while control:\n",
    "    try:\n",
    "        testscore = int(input(\"Enter your test result from 1 to 100\"))\n",
    "        test = True\n",
    "        if testscore < 0:\n",
    "            test = False\n",
    "        if testscore > 100:\n",
    "            test = False\n",
    "        if test == True:\n",
    "            scores.append(testscore)\n",
    "            while True:\n",
    "                response = input(\"do you want to continue? y or n?\")\n",
    "                if response == \"y\":\n",
    "                    break\n",
    "                elif response == \"n\":\n",
    "                    control = False\n",
    "                    break\n",
    "                else:\n",
    "                    print(\"please answer with y and n\")\n",
    "        else:\n",
    "           print(\"not in the range\")\n",
    "    except ValueError:\n",
    "        print(\"not an integer\")\n",
    "\n"
   ]
  }
 ],
 "metadata": {
  "kernelspec": {
   "display_name": "Python 3 (ipykernel)",
   "language": "python",
   "name": "python3"
  },
  "language_info": {
   "codemirror_mode": {
    "name": "ipython",
    "version": 3
   },
   "file_extension": ".py",
   "mimetype": "text/x-python",
   "name": "python",
   "nbconvert_exporter": "python",
   "pygments_lexer": "ipython3",
   "version": "3.12.1"
  }
 },
 "nbformat": 4,
 "nbformat_minor": 5
}
