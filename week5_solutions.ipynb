{
 "cells": [
  {
   "cell_type": "markdown",
   "id": "a6754576",
   "metadata": {},
   "source": [
    "answer to task 1"
   ]
  },
  {
   "cell_type": "code",
   "execution_count": null,
   "id": "c5e3551d",
   "metadata": {},
   "outputs": [
    {
     "ename": "SyntaxError",
     "evalue": "expected ':' (746149010.py, line 5)",
     "output_type": "error",
     "traceback": [
      "  \u001b[36mCell\u001b[39m\u001b[36m \u001b[39m\u001b[32mIn[25]\u001b[39m\u001b[32m, line 5\u001b[39m\n\u001b[31m    \u001b[39m\u001b[31mexcept ValueError\u001b[39m\n                     ^\n\u001b[31mSyntaxError\u001b[39m\u001b[31m:\u001b[39m expected ':'\n"
     ]
    }
   ],
   "source": [
    "scores = []\n",
    "control = True\n",
    "while control:\n",
    "    try:\n",
    "        testscore = int(input(\"Enter your test result from 1 to 100\"))\n",
    "        if 0 < testscore > 100:\n",
    "            scores.append(testscore)\n",
    "            while True:\n",
    "                response = input(\"do you want to continue? y or n?\")\n",
    "                if response == \"y\":\n",
    "                    break\n",
    "                elif response == \"n\":\n",
    "                    control = False\n",
    "                else:\n",
    "                    print(\"please answer with y and n\")\n",
    "        else:\n",
    "           print(\"not in the range\")\n",
    "    except ValueError:\n",
    "        print(\"not an integer\")\n",
    "\n"
   ]
  }
 ],
 "metadata": {
  "kernelspec": {
   "display_name": "Python 3 (ipykernel)",
   "language": "python",
   "name": "python3"
  }
 },
 "nbformat": 4,
 "nbformat_minor": 5
}
