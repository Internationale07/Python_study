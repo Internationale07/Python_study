{
 "cells": [
  {
   "cell_type": "code",
   "execution_count": null,
   "id": "a8dfadd8",
   "metadata": {},
   "outputs": [],
   "source": [
    "name = input(\"what is your name\")\n",
    "color = input(\"what is your favorite color\")\n",
    "with open (\"./user.txt\",\"a\") as file:\n",
    "    print(f'users name is {name}',file=file)\n",
    "    print(f'users favorite color is {color}',file=file)\n",
    "\n"
   ]
  },
  {
   "cell_type": "code",
   "execution_count": 2,
   "id": "91259094",
   "metadata": {},
   "outputs": [
    {
     "name": "stdout",
     "output_type": "stream",
     "text": [
      "users name is Eric\n",
      "users favorite color is red\n",
      "users name is bob\n",
      "users favorite color is yellow\n",
      "users name is eric\n",
      "users favorite color is red\n",
      "\n"
     ]
    }
   ],
   "source": [
    "with open (\"user.txt\",\"r\") as f:\n",
    "    content = f.read()\n",
    "    print(content)\n"
   ]
  },
  {
   "cell_type": "code",
   "execution_count": 18,
   "id": "1b422082",
   "metadata": {},
   "outputs": [
    {
     "name": "stdout",
     "output_type": "stream",
     "text": [
      "/workspaces/Python_study\n"
     ]
    }
   ],
   "source": [
    "import os\n",
    "\n",
    "notebook_path = os.getcwd()\n",
    "print(notebook_path)\n"
   ]
  }
 ],
 "metadata": {
  "kernelspec": {
   "display_name": "Python 3 (ipykernel)",
   "language": "python",
   "name": "python3"
  },
  "language_info": {
   "codemirror_mode": {
    "name": "ipython",
    "version": 3
   },
   "file_extension": ".py",
   "mimetype": "text/x-python",
   "name": "python",
   "nbconvert_exporter": "python",
   "pygments_lexer": "ipython3",
   "version": "3.12.1"
  }
 },
 "nbformat": 4,
 "nbformat_minor": 5
}
