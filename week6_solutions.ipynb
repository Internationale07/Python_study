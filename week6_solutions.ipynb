{
 "cells": [
  {
   "cell_type": "code",
   "execution_count": null,
   "id": "a8dfadd8",
   "metadata": {},
   "outputs": [
    {
     "ename": "",
     "evalue": "",
     "output_type": "error",
     "traceback": [
      "\u001b[1;31mFailed to connect to remote Jupyter Server.\n",
      "\u001b[1;31mCheck that the Jupyter Server URL can be reached from a browser.\n",
      "\u001b[1;31mhttps://jupyter-server-9756xqxrwxgq2pww6-8888.app.github.dev/. Click <a href='https://aka.ms/vscjremoteweb'>here</a> for more information."
     ]
    }
   ],
   "source": [
    "name = input(\"what is your name\")\n",
    "color = input(\"what is your favorite color\")\n",
    "with open (\"user_info.txt\",\"w\") as file:\n",
    "    print(f'{\"user's name is \"name},file=file)\n",
    "    print(f'{\"user's favorite color is \"color},file=file)\n",
    "with open (\"user_info.txt\",\"r\") as f:\n",
    "    content = f.read()\n",
    "    print(f)\n",
    "\n"
   ]
  }
 ],
 "metadata": {
  "kernelspec": {
   "display_name": "Python 3 (ipykernel)",
   "language": "python",
   "name": "python3"
  }
 },
 "nbformat": 4,
 "nbformat_minor": 5
}
