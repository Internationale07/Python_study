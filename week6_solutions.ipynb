{
 "cells": [
  {
   "cell_type": "code",
   "execution_count": 3,
   "id": "a8dfadd8",
   "metadata": {},
   "outputs": [
    {
     "name": "stdout",
     "output_type": "stream",
     "text": [
      "users name is Eric\n",
      "users favorite color is red\n",
      "\n"
     ]
    }
   ],
   "source": [
    "name = input(\"what is your name\")\n",
    "color = input(\"what is your favorite color\")\n",
    "with open (\"user_info.txt\",\"w\") as file:\n",
    "    print(f'users name is {name}',file=file)\n",
    "    print(f'users favorite color is {color}',file=file)\n",
    "with open (\"user_info.txt\",\"r\") as f:\n",
    "    content = f.read()\n",
    "    print(content)\n",
    "\n"
   ]
  }
 ],
 "metadata": {
  "kernelspec": {
   "display_name": "Python 3 (ipykernel)",
   "language": "python",
   "name": "python3"
  },
  "language_info": {
   "codemirror_mode": {
    "name": "ipython",
    "version": 3
   },
   "file_extension": ".py",
   "mimetype": "text/x-python",
   "name": "python",
   "nbconvert_exporter": "python",
   "pygments_lexer": "ipython3",
   "version": "3.12.1"
  }
 },
 "nbformat": 4,
 "nbformat_minor": 5
}
