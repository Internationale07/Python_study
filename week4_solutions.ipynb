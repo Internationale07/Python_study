{
 "cells": [
  {
   "cell_type": "markdown",
   "metadata": {},
   "source": [
    "Person = \"Eric\"\n",
    "Person is a variable/identifier, Eric is a value\n",
    "Students = [\"Eric\",\"Freddie\",\"Ben\"]-->List/Array\n",
    "Value = [\"Eric\",7,\"Ben\",8]-->List\n",
    "Values2\n"
   ]
  },
  {
   "cell_type": "code",
   "execution_count": 2,
   "metadata": {},
   "outputs": [
    {
     "name": "stdout",
     "output_type": "stream",
     "text": [
      "[3, 7, 8, 2, 12]\n",
      "[3, 8, 2, 12]\n",
      "1.3\n",
      "2.8\n",
      "3.2\n",
      "4.12\n"
     ]
    }
   ],
   "source": [
    "scores = [3,7,8,2]\n",
    "#add a score\n",
    "scores.append(12)\n",
    "print(scores)\n",
    "#Remove\n",
    "scores.remove(7)\n",
    "print(scores)\n",
    "#print a list of score\n",
    "for i in range(len(scores)):\n",
    "    print(f'{i+1}.{scores[i]}')\n"
   ]
  },
  {
   "cell_type": "code",
   "execution_count": 13,
   "metadata": {},
   "outputs": [
    {
     "name": "stdout",
     "output_type": "stream",
     "text": [
      "found:  12\n"
     ]
    }
   ],
   "source": [
    "search_term =int((input ()))\n",
    "if search_term in scores:\n",
    "    print(\"found: \", search_term)\n",
    "else:\n",
    "    print(\"not found\")"
   ]
  },
  {
   "cell_type": "code",
   "execution_count": 16,
   "metadata": {},
   "outputs": [],
   "source": [
    "def converts(wage,savings):\n",
    "    cwage = 5 * wage\n",
    "    csavings = 7 * savings\n",
    "    return cwage,csavings\n",
    "converted = converts(8,9)\n",
    "cwage,csavings = converts(8,9)"
   ]
  },
  {
   "cell_type": "markdown",
   "metadata": {},
   "source": [
    "### Week4 solution 1"
   ]
  },
  {
   "cell_type": "code",
   "execution_count": 1,
   "metadata": {},
   "outputs": [
    {
     "name": "stdout",
     "output_type": "stream",
     "text": [
      "[('1', '1'), ('1', '1')]\n"
     ]
    }
   ],
   "source": [
    "x = int(input(\"how many subjects do you take?\"))\n",
    "subjects = []\n",
    "plan = []\n",
    "for i in range(x):\n",
    "    subjects.append(input(f'enter subject {i+1}'))\n",
    "for subject in subjects:\n",
    "    topic = input(f'what are your topic in {subject}?')\n",
    "    plan.append((subject,topic))\n",
    "print(plan)"
   ]
  },
  {
   "cell_type": "markdown",
   "metadata": {},
   "source": [
    "week4 solution 3"
   ]
  },
  {
   "cell_type": "code",
   "execution_count": 2,
   "metadata": {},
   "outputs": [],
   "source": [
    "def grade_calculators(scores):\n",
    "    total = 0\n",
    "    for each in scores:\n",
    "        total += each\n",
    "    mean = total/len(scores)\n",
    "    return(total,mean,len(scores))"
   ]
  },
  {
   "cell_type": "code",
   "execution_count": 3,
   "metadata": {},
   "outputs": [
    {
     "name": "stdout",
     "output_type": "stream",
     "text": [
      "the total amount of scores are 63, the number of students are 4, the average score is 15.75\n"
     ]
    }
   ],
   "source": [
    "scores = []\n",
    "for i in range(int(input(\"how many students took the test\"))):\n",
    "    scores.append(int(input(f'enter scores of student {i+1}')))\n",
    "total, mean, students = grade_calculators(scores)\n",
    "print(f'the total amount of scores are {total}, the number of students are {students}, the average score is {mean:.2f}')"
   ]
  }
 ],
 "metadata": {
  "kernelspec": {
   "display_name": "Python 3 (ipykernel)",
   "language": "python",
   "name": "python3"
  },
  "language_info": {
   "codemirror_mode": {
    "name": "ipython",
    "version": 3
   },
   "file_extension": ".py",
   "mimetype": "text/x-python",
   "name": "python",
   "nbconvert_exporter": "python",
   "pygments_lexer": "ipython3",
   "version": "3.12.1"
  }
 },
 "nbformat": 4,
 "nbformat_minor": 2
}
