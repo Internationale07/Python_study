{
 "cells": [
  {
   "cell_type": "markdown",
   "metadata": {},
   "source": [
    "Person = \"Eric\"\n",
    "Person is a variable/identifier, Eric is a value\n",
    "Students = [\"Eric\",\"Freddie\",\"Ben\"]-->List/Array\n",
    "Value = [\"Eric\",7,\"Ben\",8]-->List\n",
    "Values2\n"
   ]
  },
  {
   "cell_type": "code",
   "execution_count": null,
   "metadata": {},
   "outputs": [],
   "source": [
    "scores = [3,7,8,2]\n",
    "#add a score\n",
    "scores.append(12)\n",
    "print(scores)\n",
    "#Remove\n",
    "scores.remove(7)\n",
    "print(scores)\n",
    "#print a list of score\n",
    "for i in range(len(scores)):\n",
    "    print(f'{i+1}.{scores[i]}')\n"
   ]
  },
  {
   "cell_type": "code",
   "execution_count": null,
   "metadata": {},
   "outputs": [],
   "source": [
    "search = (input ())\n",
    "if search in scores:\n",
    "    print(\"found: \", search)\n",
    "else:\n",
    "    print(\"not found\")"
   ]
  }
 ],
 "metadata": {
  "kernelspec": {
   "display_name": "Python 3 (ipykernel)",
   "language": "python",
   "name": "python3"
  },
  "language_info": {
   "codemirror_mode": {
    "name": "ipython",
    "version": 3
   },
   "file_extension": ".py",
   "mimetype": "text/x-python",
   "name": "python",
   "nbconvert_exporter": "python",
   "pygments_lexer": "ipython3",
   "version": "3.12.1"
  }
 },
 "nbformat": 4,
 "nbformat_minor": 2
}
