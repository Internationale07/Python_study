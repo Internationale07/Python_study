{
 "cells": [
  {
   "cell_type": "markdown",
   "metadata": {},
   "source": [
    "**Answer to task 1**"
   ]
  },
  {
   "cell_type": "code",
   "execution_count": null,
   "metadata": {
    "vscode": {
     "languageId": "plaintext"
    }
   },
   "outputs": [],
   "source": [
    "x = input(\"Enter a number: \")\n",
    "x = float(x)\n",
    "if x > 0.0:\n",
    "    print(\"Positive\")\n",
    "elif x < 0.0:\n",
    "    print(\"Negative\")\n",
    "elif x == 0.0:\n",
    "    print(\"Zero\")"
   ]
  },
  {
   "cell_type": "markdown",
   "metadata": {},
   "source": [
    "**Answer to task 2**"
   ]
  },
  {
   "cell_type": "code",
   "execution_count": null,
   "metadata": {
    "vscode": {
     "languageId": "plaintext"
    }
   },
   "outputs": [],
   "source": [
    "from random import randint\n",
    "rad = randint(1, 10)\n",
    "gue = input(\"guess a number between 1 and 10\")\n",
    "gue = int(gue)\n",
    "if gue == rad:\n",
    "    print(\"right\")\n",
    "elif gue > rad:\n",
    "    print(\"too high\")\n",
    "elif gue < rad:\n",
    "    print(\"too low\")"
   ]
  },
  {
   "cell_type": "markdown",
   "metadata": {},
   "source": [
    "**Answer to question 3**"
   ]
  },
  {
   "cell_type": "code",
   "execution_count": null,
   "metadata": {
    "vscode": {
     "languageId": "plaintext"
    }
   },
   "outputs": [],
   "source": [
    "x = input(\"Enter a number: \")\n",
    "x = float(x)\n",
    "a = x * 1.0\n",
    "b = x * 2.0\n",
    "c = x * 3.0\n",
    "d = x * 4.0\n",
    "e = x * 5.0\n",
    "f = x * 6.0\n",
    "g = x * 7.0\n",
    "h = x * 8.0\n",
    "i = x * 9.0\n",
    "j = x * 10.0\n",
    "print(\"x*1=\", a)\n",
    "print(\"x*2=\", b)\n",
    "print(\"x*3=\", c)\n",
    "print(\"x*4=\", d)\n",
    "print(\"x*5=\", e)\n",
    "print(\"x*6=\", f)\n",
    "print(\"x*7=\", g)\n",
    "print(\"x*8=\", h)\n",
    "print(\"x*9=\", i)\n",
    "print(\"x*10=\", j)"
   ]
  }
 ],
 "metadata": {
  "language_info": {
   "name": "python"
  }
 },
 "nbformat": 4,
 "nbformat_minor": 2
}
