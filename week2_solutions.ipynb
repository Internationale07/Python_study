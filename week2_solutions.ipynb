{
 "cells": [
  {
   "cell_type": "markdown",
   "metadata": {},
   "source": [
    "**Answer to task 1**"
   ]
  },
  {
   "cell_type": "code",
   "execution_count": 9,
   "metadata": {},
   "outputs": [],
   "source": [
    "from time import sleep"
   ]
  },
  {
   "cell_type": "code",
   "execution_count": 1,
   "metadata": {},
   "outputs": [
    {
     "name": "stdout",
     "output_type": "stream",
     "text": [
      "Positive\n"
     ]
    }
   ],
   "source": [
    "x = input(\"Enter a number: \")\n",
    "x = float(x)\n",
    "if x > 0.0:\n",
    "    print(\"Positive\")\n",
    "elif x < 0.0:\n",
    "    print(\"Negative\")\n",
    "elif x == 0.0:\n",
    "    print(\"Zero\")"
   ]
  },
  {
   "cell_type": "markdown",
   "metadata": {},
   "source": [
    "**Answer to task 2**"
   ]
  },
  {
   "cell_type": "code",
   "execution_count": null,
   "metadata": {},
   "outputs": [],
   "source": [
    "from random import randint\n",
    "rad = randint(1, 10)\n",
    "gue = input(\"guess a number between 1 and 10\")\n",
    "gue = int(gue)\n",
    "if gue == rad:\n",
    "    print(\"right\")\n",
    "elif gue > rad:\n",
    "    print(\"too high\")\n",
    "elif gue < rad:\n",
    "    print(\"too low\")"
   ]
  },
  {
   "cell_type": "markdown",
   "metadata": {},
   "source": [
    "**Answer to question 3**"
   ]
  },
  {
   "cell_type": "code",
   "execution_count": null,
   "metadata": {},
   "outputs": [],
   "source": [
    "x = input(\"Enter a number: \")\n",
    "x = float(x)\n",
    "a = x * 1.0\n",
    "b = x * 2.0\n",
    "c = x * 3.0\n",
    "d = x * 4.0\n",
    "e = x * 5.0\n",
    "f = x * 6.0\n",
    "g = x * 7.0\n",
    "h = x * 8.0\n",
    "i = x * 9.0\n",
    "j = x * 10.0\n",
    "print(\"x*1=\", a)\n",
    "print(\"x*2=\", b)\n",
    "print(\"x*3=\", c)\n",
    "print(\"x*4=\", d)\n",
    "print(\"x*5=\", e)\n",
    "print(\"x*6=\", f)\n",
    "print(\"x*7=\", g)\n",
    "print(\"x*8=\", h)\n",
    "print(\"x*9=\", i)\n",
    "print(\"x*10=\", j)"
   ]
  },
  {
   "cell_type": "code",
   "execution_count": 11,
   "metadata": {},
   "outputs": [
    {
     "name": "stdout",
     "output_type": "stream",
     "text": [
      "5\n",
      "4\n",
      "3\n",
      "2\n",
      "1\n",
      "we have lift off\n"
     ]
    }
   ],
   "source": [
    "#print numbers from 5 to 1 and then print the message \"we have lift off\"\n",
    "counter = 5\n",
    "while counter > 0:\n",
    "    print(counter)\n",
    "    #counter = counter - 1\n",
    "    counter -= 1\n",
    "    sleep(1)\n",
    "print(\"we have lift off\")"
   ]
  },
  {
   "cell_type": "markdown",
   "metadata": {},
   "source": [
    "**write a program which ask the user to enter intergers values greater than zero**\n",
    "the program quit when the user answers -1\n",
    "print the sum of all intergers that was entered"
   ]
  },
  {
   "cell_type": "code",
   "execution_count": null,
   "metadata": {},
   "outputs": [
    {
     "ename": "TypeError",
     "evalue": "'int' object is not callable",
     "output_type": "error",
     "traceback": [
      "\u001b[0;31m---------------------------------------------------------------------------\u001b[0m",
      "\u001b[0;31mTypeError\u001b[0m                                 Traceback (most recent call last)",
      "Cell \u001b[0;32mIn[17], line 3\u001b[0m\n\u001b[1;32m      1\u001b[0m total \u001b[38;5;241m=\u001b[39m \u001b[38;5;241m0\u001b[39m\n\u001b[1;32m      2\u001b[0m \u001b[38;5;28;01mwhile\u001b[39;00m \u001b[38;5;28;01mTrue\u001b[39;00m:\n\u001b[0;32m----> 3\u001b[0m     interger \u001b[38;5;241m=\u001b[39m \u001b[38;5;28;43mint\u001b[39;49m\u001b[43m(\u001b[49m\u001b[38;5;28;43minput\u001b[39;49m\u001b[43m(\u001b[49m\u001b[38;5;124;43m\"\u001b[39;49m\u001b[38;5;124;43mEnter a value that is greater than zero \u001b[39;49m\u001b[38;5;124;43m\"\u001b[39;49m\u001b[43m)\u001b[49m\u001b[43m)\u001b[49m\n\u001b[1;32m      4\u001b[0m     \u001b[38;5;28;01mif\u001b[39;00m interger \u001b[38;5;241m==\u001b[39m \u001b[38;5;241m-\u001b[39m\u001b[38;5;241m1\u001b[39m:\n\u001b[1;32m      5\u001b[0m         \u001b[38;5;28;01mbreak\u001b[39;00m\n",
      "\u001b[0;31mTypeError\u001b[0m: 'int' object is not callable"
     ]
    }
   ],
   "source": [
    "total = 0\n",
    "while True:\n",
    "    myint = int(input(\"Enter a value that is greater than zero \"))\n",
    "    if myint == -1:\n",
    "        break\n",
    "    else:\n",
    "        total += myint\n",
    "print(f'total:{total}')"
   ]
  }
 ],
 "metadata": {
  "kernelspec": {
   "display_name": "Python 3 (ipykernel)",
   "language": "python",
   "name": "python3"
  },
  "language_info": {
   "codemirror_mode": {
    "name": "ipython",
    "version": 3
   },
   "file_extension": ".py",
   "mimetype": "text/x-python",
   "name": "python",
   "nbconvert_exporter": "python",
   "pygments_lexer": "ipython3",
   "version": "3.12.1"
  }
 },
 "nbformat": 4,
 "nbformat_minor": 2
}
