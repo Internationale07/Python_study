{
 "cells": [
  {
   "cell_type": "markdown",
   "metadata": {},
   "source": [
    "**Answer to task 1**"
   ]
  },
  {
   "cell_type": "code",
   "execution_count": 9,
   "metadata": {},
   "outputs": [],
   "source": [
    "from time import sleep"
   ]
  },
  {
   "cell_type": "code",
   "execution_count": 1,
   "metadata": {},
   "outputs": [
    {
     "name": "stdout",
     "output_type": "stream",
     "text": [
      "Positive\n"
     ]
    }
   ],
   "source": [
    "x = input(\"Enter a number: \")\n",
    "x = float(x)\n",
    "if x > 0.0:\n",
    "    print(\"Positive\")\n",
    "elif x < 0.0:\n",
    "    print(\"Negative\")\n",
    "elif x == 0.0:\n",
    "    print(\"Zero\")"
   ]
  },
  {
   "cell_type": "markdown",
   "metadata": {},
   "source": [
    "**Answer to task 2**"
   ]
  },
  {
   "cell_type": "code",
   "execution_count": null,
   "metadata": {},
   "outputs": [],
   "source": [
    "from random import randint\n",
    "rad = randint(1, 10)\n",
    "gue = input(\"guess a number between 1 and 10\")\n",
    "gue = int(gue)\n",
    "if gue == rad:\n",
    "    print(\"right\")\n",
    "elif gue > rad:\n",
    "    print(\"too high\")\n",
    "elif gue < rad:\n",
    "    print(\"too low\")"
   ]
  },
  {
   "cell_type": "markdown",
   "metadata": {},
   "source": [
    "**Answer to question 3**"
   ]
  },
  {
   "cell_type": "code",
   "execution_count": 4,
   "metadata": {},
   "outputs": [
    {
     "name": "stdout",
     "output_type": "stream",
     "text": [
      "3*1=3\n",
      "3*2=6\n",
      "3*3=9\n",
      "3*4=12\n",
      "3*5=15\n",
      "3*6=18\n",
      "3*7=21\n",
      "3*8=24\n",
      "3*9=27\n",
      "3*10=30\n"
     ]
    }
   ],
   "source": [
    "#x = input(\"Enter a number: \")\n",
    "#x = float(x)\n",
    "#a = x * 1.0\n",
    "#b = x * 2.0\n",
    "#c = x * 3.0\n",
    "#d = x * 4.0\n",
    "#e = x * 5.0\n",
    "#f = x * 6.0\n",
    "#g = x * 7.0\n",
    "#h = x * 8.0\n",
    "#i = x * 9.0\n",
    "#j = x * 10.0\n",
    "#print(\"x*1=\", a)\n",
    "#print(\"x*2=\", b)\n",
    "#print(\"x*3=\", c)\n",
    "#print(\"x*4=\", d)\n",
    "#print(\"x*5=\", e)\n",
    "#print(\"x*6=\", f)\n",
    "#print(\"x*7=\", g)\n",
    "#print(\"x*8=\", h)\n",
    "#print(\"x*9=\", i)\n",
    "#print(\"x*10=\", j)\n",
    "userinput = int(input())\n",
    "for i in range(1,11):\n",
    "    print(f'{userinput}*{i}={userinput*i}')"
   ]
  },
  {
   "cell_type": "code",
   "execution_count": 11,
   "metadata": {},
   "outputs": [
    {
     "name": "stdout",
     "output_type": "stream",
     "text": [
      "5\n",
      "4\n",
      "3\n",
      "2\n",
      "1\n",
      "we have lift off\n"
     ]
    }
   ],
   "source": [
    "#print numbers from 5 to 1 and then print the message \"we have lift off\"\n",
    "counter = 5\n",
    "while counter > 0:\n",
    "    print(counter)\n",
    "    #counter = counter - 1\n",
    "    counter -= 1\n",
    "    sleep(1)\n",
    "print(\"we have lift off\")"
   ]
  },
  {
   "cell_type": "markdown",
   "metadata": {},
   "source": [
    "**write a program which ask the user to enter intergers values greater than zero**\n",
    "the program quit when the user answers -1\n",
    "print the sum of all intergers that was entered"
   ]
  },
  {
   "cell_type": "code",
   "execution_count": null,
   "metadata": {},
   "outputs": [],
   "source": [
    "'''\n",
    "Eric's calculator\n",
    "-----------------\n",
    "1.addition(10 questions)\n",
    "2.multiplication(10 questions)\n",
    "3.mixed(10 questions)\n",
    "4.quit\n",
    "choose an option from the menu\n",
    "Get 10 random questions, display results only quit when user choosen option 4\n",
    "'''"
   ]
  },
  {
   "cell_type": "code",
   "execution_count": 2,
   "metadata": {},
   "outputs": [],
   "source": [
    "from random import randint, choice"
   ]
  },
  {
   "cell_type": "code",
   "execution_count": 3,
   "metadata": {},
   "outputs": [],
   "source": [
    "def displaymenu():\n",
    "    title = \"Eric's Calculator\"\n",
    "    linechar = \"-\"\n",
    "    menuItems = '''1.addition\n",
    "2.multiplication\n",
    "3.mixed\n",
    "4.quit'''\n",
    "    print(f'{title}\\n{len(title)*linechar}\\n{menuItems}')"
   ]
  },
  {
   "cell_type": "code",
   "execution_count": null,
   "metadata": {},
   "outputs": [
    {
     "name": "stdout",
     "output_type": "stream",
     "text": [
      "Eric's Calculator\n",
      "-----------------\n",
      "1.addition\n",
      "2.multiplication\n",
      "3.mixed\n",
      "4.quit\n"
     ]
    }
   ],
   "source": [
    "while True:\n",
    "    displaymenu()\n",
    "    userchoise = int(input(\"choose an option\"))\n",
    "    if userchoise == 4:\n",
    "        break\n",
    "    elif userchoise == 1:\n",
    "        for i in range(1,10):\n",
    "            op1 = randint(1,10)\n",
    "            op2 = randint(1,10)\n",
    "            answer = int(input(f'{op1}+{op2}'))"
   ]
  },
  {
   "cell_type": "code",
   "execution_count": null,
   "metadata": {},
   "outputs": [],
   "source": [
    "total = 0\n",
    "while True:\n",
    "    myint = int(input(\"Enter a value that is greater than zero \"))\n",
    "    if myint == -1:\n",
    "        break\n",
    "    else:\n",
    "        total += myint\n",
    "print(f'total:{total}')"
   ]
  }
 ],
 "metadata": {
  "kernelspec": {
   "display_name": "Python 3 (ipykernel)",
   "language": "python",
   "name": "python3"
  },
  "language_info": {
   "codemirror_mode": {
    "name": "ipython",
    "version": 3
   },
   "file_extension": ".py",
   "mimetype": "text/x-python",
   "name": "python",
   "nbconvert_exporter": "python",
   "pygments_lexer": "ipython3",
   "version": "3.12.1"
  }
 },
 "nbformat": 4,
 "nbformat_minor": 2
}
