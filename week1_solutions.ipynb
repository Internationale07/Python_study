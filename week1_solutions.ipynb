{
 "cells": [
  {
   "cell_type": "markdown",
   "metadata": {},
   "source": [
    "**Answer to task 1**\n",
    "Temperature Converter"
   ]
  },
  {
   "cell_type": "code",
   "execution_count": null,
   "metadata": {
    "vscode": {
     "languageId": "plaintext"
    }
   },
   "outputs": [],
   "source": [
    "c = input (\"Enter Temperature in Celsius: \")\n",
    "c = float(c)\n",
    "fc = c * 9 / 2 + 32\n",
    "a = str(fc)\n",
    "b = str(c)\n",
    "print(b+\" celsius is \"+a+\" Fahrenheit\")\n",
    "f = input(\"Enter Temperature in Fahrenheit: \")\n",
    "f = float(f)\n",
    "cf = (f-32) * 5 / 9\n",
    "c = str(cf)\n",
    "d = str(f)\n",
    "print(d+\" Fahrenheit is \"+c+\" Celsius\")"
   ]
  },
  {
   "cell_type": "markdown",
   "metadata": {},
   "source": [
    "**Answer to task 2**\n",
    "Enhanced Calculator with Functions"
   ]
  },
  {
   "cell_type": "markdown",
   "metadata": {},
   "source": [
    "a = input(\"Enter first number: \")\n",
    "b = input(\"Enter second number: \")\n",
    "a= int(a)\n",
    "b= int(b)\n",
    "s = a + b\n",
    "d = a - b\n",
    "p = a * b\n",
    "q = a / b\n",
    "print(\"sum is \",s,\"difference is \",d,\"product is \",p,\"quotient is \",q)"
   ]
  }
 ],
 "metadata": {
  "language_info": {
   "name": "python"
  }
 },
 "nbformat": 4,
 "nbformat_minor": 2
}
