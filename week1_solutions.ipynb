{
 "cells": [
  {
   "cell_type": "markdown",
   "metadata": {},
   "source": [
    "**Answer to task 1**\n",
    "Temperature Converter"
   ]
  },
  {
   "cell_type": "code",
   "execution_count": 1,
   "metadata": {},
   "outputs": [
    {
     "name": "stdout",
     "output_type": "stream",
     "text": [
      "123.0 celsius is 585.5 Fahrenheit\n",
      "3434.0 Fahrenheit is 1890.0 Celsius\n"
     ]
    }
   ],
   "source": [
    "c = input (\"Enter Temperature in Celsius: \")\n",
    "c = float(c)\n",
    "fc = c * 9 / 2 + 32\n",
    "a = str(fc)\n",
    "b = str(c)\n",
    "print(b+\" celsius is \"+a+\" Fahrenheit\")\n",
    "f = input(\"Enter Temperature in Fahrenheit: \")\n",
    "f = float(f)\n",
    "cf = (f-32) * 5 / 9\n",
    "c = str(cf)\n",
    "d = str(f)\n",
    "print(d+\" Fahrenheit is \"+c+\" Celsius\")"
   ]
  },
  {
   "cell_type": "markdown",
   "metadata": {},
   "source": [
    "**Answer to task 2**\n",
    "Enhanced Calculator with Functions"
   ]
  },
  {
   "cell_type": "code",
   "execution_count": 2,
   "metadata": {},
   "outputs": [
    {
     "name": "stdout",
     "output_type": "stream",
     "text": [
      "sum is  3 difference is  -1 product is  2 quotient is  0.5\n"
     ]
    }
   ],
   "source": [
    "a = input(\"Enter first number: \")\n",
    "b = input(\"Enter second number: \")\n",
    "a= int(a)\n",
    "b= int(b)\n",
    "s = a + b\n",
    "d = a - b\n",
    "p = a * b\n",
    "q = a / b\n",
    "print(\"sum is \",s,\"difference is \",d,\"product is \",p,\"quotient is \",q)"
   ]

=======
  },
  {
   "cell_type": "markdown",
   "metadata": {},
   "source": [
    "**Answer to task 3**"
   ]
  },
  {
   "cell_type": "code",
   "execution_count": 22,
   "metadata": {},
   "outputs": [
    {
     "name": "stdout",
     "output_type": "stream",
     "text": [
      "cire"
     ]
    }
   ],
   "source": [
    "name = \"eric\"\n",
    "for i in range(len(name)-1,-1,-1):\n",
    "    print(name[i], end=\"\")"
   ]
>>>>>>> 12b9b888838fc281a477a2ecc35b064e7eff7a43
  }
 ],
 "metadata": {
  "kernelspec": {
   "display_name": "Python 3",
   "language": "python",
   "name": "python3"
  },
  "language_info": {
   "codemirror_mode": {
    "name": "ipython",
    "version": 3
   },
   "file_extension": ".py",
   "mimetype": "text/x-python",
   "name": "python",
   "nbconvert_exporter": "python",
   "pygments_lexer": "ipython3",
   "version": "3.12.6"
  }
 },
 "nbformat": 4,
 "nbformat_minor": 2
}
