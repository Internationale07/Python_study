{
 "cells": [
  {
   "cell_type": "markdown",
   "metadata": {},
   "source": [
    "**Answer to task 1**\n",
    "Temperature Converter"
   ]
  },
  {
   "cell_type": "code",
   "execution_count": null,
   "metadata": {
    "vscode": {
     "languageId": "plaintext"
    }
   },
   "outputs": [],
   "source": [
    "c = input (\"Enter Temperature in Celsius: \")\n",
    "c = float(c)\n",
    "fc = c * 9 / 2 + 32\n",
    "a = str(fc)\n",
    "b = str(c)\n",
    "print(b+\" celsius is \"+a+\" Fahrenheit\")\n",
    "f = input(\"Enter Temperature in Fahrenheit: \")\n",
    "f = float(f)\n",
    "cf = (f-32) * 5 / 9\n",
    "c = str(cf)\n",
    "d = str(f)\n",
    "print(d+\" Fahrenheit is \"+c+\" Celsius\")"
   ]
  }
 ],
 "metadata": {
  "language_info": {
   "name": "python"
  }
 },
 "nbformat": 4,
 "nbformat_minor": 2
}
